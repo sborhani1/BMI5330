{
 "cells": [
  {
   "cell_type": "markdown",
   "metadata": {},
   "source": [
    "# BMI 5330: Breast Cancer and the ERBB2 Gene"
   ]
  },
  {
   "cell_type": "markdown",
   "metadata": {},
   "source": [
    "\n",
    "**Soheila Borhani**\n",
    "\n",
    "Spring 2024"
   ]
  },
  {
   "cell_type": "markdown",
   "metadata": {},
   "source": [
    "&emsp;"
   ]
  },
  {
   "cell_type": "code",
   "execution_count": 1,
   "metadata": {},
   "outputs": [],
   "source": [
    " # importing required python libraries\n",
    "import matplotlib.pyplot as plt\n",
    "plt.style.use('ggplot')\n",
    "import seaborn as sns\n",
    "import numpy as np  \n",
    "import pandas as pd \n",
    "pd.set_option('display.max_columns', 500)"
   ]
  },
  {
   "cell_type": "markdown",
   "metadata": {},
   "source": [
    "   "
   ]
  },
  {
   "cell_type": "markdown",
   "metadata": {
    "jp-MarkdownHeadingCollapsed": true
   },
   "source": [
    "## Genomic Location of ERBB2"
   ]
  },
  {
   "cell_type": "markdown",
   "metadata": {},
   "source": [
    "\n",
    "- **HGNC-approved name:** Erb-b2 Receptor Tyrosine Kinase 2 \n",
    "\n",
    "- **Gene type:** Protein Coding\n",
    "\n",
    "- **Location:** Chromosome 17: 39,687,914 – 39,730,426 (GRCh38)\n",
    "\n",
    "- **Strand:** Forward (+)\n",
    "\n",
    "- **Number of exons:** 35\n",
    "\n",
    "- **List of neighboring genes:** GRB7, PPP1R1B, STARD3, ..."
   ]
  },
  {
   "cell_type": "markdown",
   "metadata": {},
   "source": [
    "<img src='images/ERBB2_location.png'>\n",
    "\n",
    "Visualization of the location of ERBB2 (highlighted in green) and its neighboring genes using the Ensembl genome browser.   "
   ]
  },
  {
   "cell_type": "markdown",
   "metadata": {},
   "source": [
    "&emsp;"
   ]
  },
  {
   "cell_type": "markdown",
   "metadata": {
    "jp-MarkdownHeadingCollapsed": true
   },
   "source": [
    "## Analysis of ERBB2 Variants"
   ]
  },
  {
   "cell_type": "code",
   "execution_count": 2,
   "metadata": {},
   "outputs": [],
   "source": [
    "# loading ClinVar data\n",
    "# Source: https://www.ncbi.nlm.nih.gov/clinvar/?term=erbb2%5Bgene%5D&redir=gene\n",
    "df_clinvar = pd.read_csv('data/ClinVar.txt', sep='\\t')"
   ]
  },
  {
   "cell_type": "code",
   "execution_count": 3,
   "metadata": {},
   "outputs": [
    {
     "data": {
      "text/html": [
       "<div>\n",
       "<style scoped>\n",
       "    .dataframe tbody tr th:only-of-type {\n",
       "        vertical-align: middle;\n",
       "    }\n",
       "\n",
       "    .dataframe tbody tr th {\n",
       "        vertical-align: top;\n",
       "    }\n",
       "\n",
       "    .dataframe thead th {\n",
       "        text-align: right;\n",
       "    }\n",
       "</style>\n",
       "<table border=\"1\" class=\"dataframe\">\n",
       "  <thead>\n",
       "    <tr style=\"text-align: right;\">\n",
       "      <th></th>\n",
       "      <th>Name</th>\n",
       "      <th>Gene(s)</th>\n",
       "      <th>Protein change</th>\n",
       "      <th>Condition(s)</th>\n",
       "      <th>Accession</th>\n",
       "      <th>GRCh37Chromosome</th>\n",
       "      <th>GRCh37Location</th>\n",
       "      <th>GRCh38Chromosome</th>\n",
       "      <th>GRCh38Location</th>\n",
       "      <th>VariationID</th>\n",
       "      <th>AlleleID(s)</th>\n",
       "      <th>dbSNP ID</th>\n",
       "      <th>Canonical SPDI</th>\n",
       "      <th>Variant type</th>\n",
       "      <th>Molecular consequence</th>\n",
       "      <th>Germline classification</th>\n",
       "      <th>Germline date last evaluated</th>\n",
       "      <th>Germline review status</th>\n",
       "      <th>Somatic clinical impact</th>\n",
       "      <th>Somatic clinical impact date last evaluated</th>\n",
       "      <th>Somatic clinical impact review status</th>\n",
       "      <th>Oncogenicity classification</th>\n",
       "      <th>Oncogenicity date last evaluated</th>\n",
       "      <th>Oncogenicity review status</th>\n",
       "      <th>Unnamed: 24</th>\n",
       "    </tr>\n",
       "  </thead>\n",
       "  <tbody>\n",
       "    <tr>\n",
       "      <th>0</th>\n",
       "      <td>GRCh38/hg38 17q23.1-25.1(chr17:36449220-750531...</td>\n",
       "      <td>ABCA10|ADAM11|AMZ2|ANKFN1|AKAP1|AKAP1-DT|ACACA...</td>\n",
       "      <td>NaN</td>\n",
       "      <td>See cases</td>\n",
       "      <td>VCV000148363</td>\n",
       "      <td>17</td>\n",
       "      <td>57595736 - 73049225</td>\n",
       "      <td>17.0</td>\n",
       "      <td>36449220 - 75053130</td>\n",
       "      <td>148363</td>\n",
       "      <td>158114</td>\n",
       "      <td>NaN</td>\n",
       "      <td>NaN</td>\n",
       "      <td>copy number gain</td>\n",
       "      <td>NaN</td>\n",
       "      <td>Pathogenic</td>\n",
       "      <td>Jan 1, 2011</td>\n",
       "      <td>no assertion criteria provided</td>\n",
       "      <td>NaN</td>\n",
       "      <td>NaN</td>\n",
       "      <td>NaN</td>\n",
       "      <td>NaN</td>\n",
       "      <td>NaN</td>\n",
       "      <td>NaN</td>\n",
       "      <td>NaN</td>\n",
       "    </tr>\n",
       "    <tr>\n",
       "      <th>1</th>\n",
       "      <td>GRCh38/hg38 17q21.33-24.2(chr17:36449220-68170...</td>\n",
       "      <td>LOC130060795|LOC130060796|LOC130060807|LOC1300...</td>\n",
       "      <td>NaN</td>\n",
       "      <td>See cases</td>\n",
       "      <td>VCV000057282</td>\n",
       "      <td>17</td>\n",
       "      <td>48563237 - 65936105</td>\n",
       "      <td>17.0</td>\n",
       "      <td>36449220 - 68170214</td>\n",
       "      <td>57282</td>\n",
       "      <td>71877</td>\n",
       "      <td>NaN</td>\n",
       "      <td>NaN</td>\n",
       "      <td>copy number gain</td>\n",
       "      <td>NaN</td>\n",
       "      <td>Pathogenic</td>\n",
       "      <td>Jan 1, 2011</td>\n",
       "      <td>criteria provided, single submitter</td>\n",
       "      <td>NaN</td>\n",
       "      <td>NaN</td>\n",
       "      <td>NaN</td>\n",
       "      <td>NaN</td>\n",
       "      <td>NaN</td>\n",
       "      <td>NaN</td>\n",
       "      <td>NaN</td>\n",
       "    </tr>\n",
       "    <tr>\n",
       "      <th>2</th>\n",
       "      <td>GRCh38/hg38 17q12(chr17:39036037-39694679)x3</td>\n",
       "      <td>ARL5C|CACNB1|CDK12|ERBB2|FBXL20|LOC110120913|L...</td>\n",
       "      <td>NaN</td>\n",
       "      <td>See cases</td>\n",
       "      <td>VCV000152111</td>\n",
       "      <td>17</td>\n",
       "      <td>37192290 - 37850932</td>\n",
       "      <td>17.0</td>\n",
       "      <td>39036037 - 39694679</td>\n",
       "      <td>152111</td>\n",
       "      <td>161862</td>\n",
       "      <td>NaN</td>\n",
       "      <td>NaN</td>\n",
       "      <td>copy number gain</td>\n",
       "      <td>NaN</td>\n",
       "      <td>Likely benign</td>\n",
       "      <td>Jan 1, 2013</td>\n",
       "      <td>no assertion criteria provided</td>\n",
       "      <td>NaN</td>\n",
       "      <td>NaN</td>\n",
       "      <td>NaN</td>\n",
       "      <td>NaN</td>\n",
       "      <td>NaN</td>\n",
       "      <td>NaN</td>\n",
       "      <td>NaN</td>\n",
       "    </tr>\n",
       "    <tr>\n",
       "      <th>3</th>\n",
       "      <td>GRCh38/hg38 17q12-21.31(chr17:39199873-4562957...</td>\n",
       "      <td>AARSD1|ACBD4|ACLY|ADAM11|AOC2|AOC3|ARHGAP27|AR...</td>\n",
       "      <td>NaN</td>\n",
       "      <td>See cases</td>\n",
       "      <td>VCV000058696</td>\n",
       "      <td>17</td>\n",
       "      <td>37356126 - 43706945</td>\n",
       "      <td>17.0</td>\n",
       "      <td>39199873 - 45629579</td>\n",
       "      <td>58696</td>\n",
       "      <td>73291</td>\n",
       "      <td>NaN</td>\n",
       "      <td>NaN</td>\n",
       "      <td>copy number gain</td>\n",
       "      <td>NaN</td>\n",
       "      <td>Pathogenic</td>\n",
       "      <td>Jan 1, 2011</td>\n",
       "      <td>criteria provided, single submitter</td>\n",
       "      <td>NaN</td>\n",
       "      <td>NaN</td>\n",
       "      <td>NaN</td>\n",
       "      <td>NaN</td>\n",
       "      <td>NaN</td>\n",
       "      <td>NaN</td>\n",
       "      <td>NaN</td>\n",
       "    </tr>\n",
       "    <tr>\n",
       "      <th>4</th>\n",
       "      <td>NM_001289936.2(ERBB2):c.22C&gt;A (p.Pro8Thr)</td>\n",
       "      <td>ERBB2</td>\n",
       "      <td>P8T</td>\n",
       "      <td>not specified</td>\n",
       "      <td>VCV000135519</td>\n",
       "      <td>17</td>\n",
       "      <td>37855834</td>\n",
       "      <td>17.0</td>\n",
       "      <td>39699581</td>\n",
       "      <td>135519</td>\n",
       "      <td>139258</td>\n",
       "      <td>rs4252596</td>\n",
       "      <td>NC_000017.11:39699580:C:A</td>\n",
       "      <td>single nucleotide variant</td>\n",
       "      <td>missense variant|intron variant</td>\n",
       "      <td>not provided</td>\n",
       "      <td>Jan 1, 2013</td>\n",
       "      <td>no classification provided</td>\n",
       "      <td>NaN</td>\n",
       "      <td>NaN</td>\n",
       "      <td>NaN</td>\n",
       "      <td>NaN</td>\n",
       "      <td>NaN</td>\n",
       "      <td>NaN</td>\n",
       "      <td>NaN</td>\n",
       "    </tr>\n",
       "  </tbody>\n",
       "</table>\n",
       "</div>"
      ],
      "text/plain": [
       "                                                Name  \\\n",
       "0  GRCh38/hg38 17q23.1-25.1(chr17:36449220-750531...   \n",
       "1  GRCh38/hg38 17q21.33-24.2(chr17:36449220-68170...   \n",
       "2       GRCh38/hg38 17q12(chr17:39036037-39694679)x3   \n",
       "3  GRCh38/hg38 17q12-21.31(chr17:39199873-4562957...   \n",
       "4          NM_001289936.2(ERBB2):c.22C>A (p.Pro8Thr)   \n",
       "\n",
       "                                             Gene(s) Protein change  \\\n",
       "0  ABCA10|ADAM11|AMZ2|ANKFN1|AKAP1|AKAP1-DT|ACACA...            NaN   \n",
       "1  LOC130060795|LOC130060796|LOC130060807|LOC1300...            NaN   \n",
       "2  ARL5C|CACNB1|CDK12|ERBB2|FBXL20|LOC110120913|L...            NaN   \n",
       "3  AARSD1|ACBD4|ACLY|ADAM11|AOC2|AOC3|ARHGAP27|AR...            NaN   \n",
       "4                                              ERBB2            P8T   \n",
       "\n",
       "    Condition(s)     Accession  GRCh37Chromosome       GRCh37Location  \\\n",
       "0      See cases  VCV000148363                17  57595736 - 73049225   \n",
       "1      See cases  VCV000057282                17  48563237 - 65936105   \n",
       "2      See cases  VCV000152111                17  37192290 - 37850932   \n",
       "3      See cases  VCV000058696                17  37356126 - 43706945   \n",
       "4  not specified  VCV000135519                17             37855834   \n",
       "\n",
       "   GRCh38Chromosome       GRCh38Location  VariationID  AlleleID(s)   dbSNP ID  \\\n",
       "0              17.0  36449220 - 75053130       148363       158114        NaN   \n",
       "1              17.0  36449220 - 68170214        57282        71877        NaN   \n",
       "2              17.0  39036037 - 39694679       152111       161862        NaN   \n",
       "3              17.0  39199873 - 45629579        58696        73291        NaN   \n",
       "4              17.0             39699581       135519       139258  rs4252596   \n",
       "\n",
       "              Canonical SPDI               Variant type  \\\n",
       "0                        NaN           copy number gain   \n",
       "1                        NaN           copy number gain   \n",
       "2                        NaN           copy number gain   \n",
       "3                        NaN           copy number gain   \n",
       "4  NC_000017.11:39699580:C:A  single nucleotide variant   \n",
       "\n",
       "             Molecular consequence Germline classification  \\\n",
       "0                              NaN              Pathogenic   \n",
       "1                              NaN              Pathogenic   \n",
       "2                              NaN           Likely benign   \n",
       "3                              NaN              Pathogenic   \n",
       "4  missense variant|intron variant            not provided   \n",
       "\n",
       "  Germline date last evaluated               Germline review status  \\\n",
       "0                  Jan 1, 2011       no assertion criteria provided   \n",
       "1                  Jan 1, 2011  criteria provided, single submitter   \n",
       "2                  Jan 1, 2013       no assertion criteria provided   \n",
       "3                  Jan 1, 2011  criteria provided, single submitter   \n",
       "4                  Jan 1, 2013           no classification provided   \n",
       "\n",
       "   Somatic clinical impact  Somatic clinical impact date last evaluated  \\\n",
       "0                      NaN                                          NaN   \n",
       "1                      NaN                                          NaN   \n",
       "2                      NaN                                          NaN   \n",
       "3                      NaN                                          NaN   \n",
       "4                      NaN                                          NaN   \n",
       "\n",
       "   Somatic clinical impact review status  Oncogenicity classification  \\\n",
       "0                                    NaN                          NaN   \n",
       "1                                    NaN                          NaN   \n",
       "2                                    NaN                          NaN   \n",
       "3                                    NaN                          NaN   \n",
       "4                                    NaN                          NaN   \n",
       "\n",
       "   Oncogenicity date last evaluated  Oncogenicity review status  Unnamed: 24  \n",
       "0                               NaN                         NaN          NaN  \n",
       "1                               NaN                         NaN          NaN  \n",
       "2                               NaN                         NaN          NaN  \n",
       "3                               NaN                         NaN          NaN  \n",
       "4                               NaN                         NaN          NaN  "
      ]
     },
     "execution_count": 3,
     "metadata": {},
     "output_type": "execute_result"
    }
   ],
   "source": [
    "# prinitng the first 5 rows of the data\n",
    "df_clinvar.head(5)"
   ]
  },
  {
   "cell_type": "code",
   "execution_count": 4,
   "metadata": {},
   "outputs": [
    {
     "name": "stdout",
     "output_type": "stream",
     "text": [
      "Total number of ERBB2 mutations in ClinVar: 692\n"
     ]
    }
   ],
   "source": [
    "print('Total number of ERBB2 mutations in ClinVar:', len(df_clinvar))"
   ]
  },
  {
   "cell_type": "code",
   "execution_count": 5,
   "metadata": {},
   "outputs": [
    {
     "data": {
      "text/plain": [
       "<AxesSubplot:>"
      ]
     },
     "execution_count": 5,
     "metadata": {},
     "output_type": "execute_result"
    },
    {
     "data": {
      "image/png": "[encoded data removed]",
      "text/plain": [
       "<Figure size 576x288 with 1 Axes>"
      ]
     },
     "metadata": {},
     "output_type": "display_data"
    }
   ],
   "source": [
    "# plotting variant type distribution: SNV, insertion, deletion, etc.\n",
    "plt.figure(figsize=(8,4))\n",
    "df_clinvar['Variant type'].value_counts()[::-1].plot(kind='barh')"
   ]
  },
  {
   "cell_type": "code",
   "execution_count": 6,
   "metadata": {},
   "outputs": [
    {
     "data": {
      "text/plain": [
       "<BarContainer object of 8 artists>"
      ]
     },
     "execution_count": 6,
     "metadata": {},
     "output_type": "execute_result"
    },
    {
     "data": {
      "image/png": "[encoded data removed]",
      "text/plain": [
       "<Figure size 576x288 with 1 Axes>"
      ]
     },
     "metadata": {},
     "output_type": "display_data"
    }
   ],
   "source": [
    "# plotting variant type by molecular consequence\n",
    "\n",
    "molecular_consequences = [\n",
    "    'missense variant',\n",
    "    'synonymous variant',\n",
    "    'inframe_insertion',\n",
    "    'nonsense',\n",
    "    'frameshift variant',\n",
    "    'inframe_indel',\n",
    "    'splice donor variant',\n",
    "    'inframe_deletion',\n",
    "]\n",
    "\n",
    "vals = df_clinvar['Molecular consequence'].value_counts().values\n",
    "inds = df_clinvar['Molecular consequence'].value_counts().index\n",
    "\n",
    "variation_type_dictionary = {}\n",
    "for consequence in molecular_consequences:\n",
    "    count = 0\n",
    "    for j, item in enumerate(inds):\n",
    "        if consequence in item:\n",
    "            count += vals[j]\n",
    "    variation_type_dictionary[consequence] = count   \n",
    "    \n",
    "    \n",
    "plt.figure(figsize=(8,4))\n",
    "value_list = list(variation_type_dictionary.values())[::-1]\n",
    "range_list = range(len(variation_type_dictionary))\n",
    "labels = list(variation_type_dictionary.keys())[::-1]\n",
    "plt.barh(range_list, value_list, tick_label=labels, color='b')    "
   ]
  },
  {
   "cell_type": "code",
   "execution_count": 7,
   "metadata": {},
   "outputs": [
    {
     "data": {
      "text/plain": [
       "Uncertain significance                          304\n",
       "Likely benign                                   282\n",
       "Benign                                           37\n",
       "Pathogenic                                       24\n",
       "Likely pathogenic                                19\n",
       "not provided                                     13\n",
       "Pathogenic/Likely pathogenic                      6\n",
       "Benign/Likely benign                              5\n",
       "Conflicting classifications of pathogenicity      2\n",
       "Name: Germline classification, dtype: int64"
      ]
     },
     "execution_count": 7,
     "metadata": {},
     "output_type": "execute_result"
    }
   ],
   "source": [
    "df_clinvar['Germline classification'].value_counts()"
   ]
  },
  {
   "cell_type": "code",
   "execution_count": 8,
   "metadata": {},
   "outputs": [],
   "source": [
    "# focusing only on pathogenic/likely pathogenic mutations\n",
    "pathogenic_list = [\n",
    "    'Pathogenic',\n",
    "    'Likely pathogenic',\n",
    "    'Pathogenic/Likely pathogenic']\n",
    "df_pathogenic = df_clinvar[df_clinvar['Germline classification'].isin(pathogenic_list)]"
   ]
  },
  {
   "cell_type": "code",
   "execution_count": 9,
   "metadata": {},
   "outputs": [],
   "source": [
    "disease_dictionary = {\n",
    "    'Breast cancer': 1,\n",
    "    'Lung cancer': 2,\n",
    "    'Bladder cancer': 3,\n",
    "    'Gastric cancer': 4,\n",
    "    'Esophageal cancer': 5,\n",
    "    'Uterine cancer': 6,\n",
    "    'Renal cancer': 7,\n",
    "    'Skin cancer': 8,\n",
    "    'Ovarian cancer': 9,\n",
    "}"
   ]
  },
  {
   "cell_type": "code",
   "execution_count": 10,
   "metadata": {},
   "outputs": [],
   "source": [
    "# extracting location data for pathogenic variants \n",
    "locs = []\n",
    "for index, row in df_pathogenic.iterrows():\n",
    "    for disease in disease_dictionary.keys():\n",
    "        if disease.lower()[:4] in row['Condition(s)'].lower():\n",
    "            if ' - ' in row['GRCh38Location']:\n",
    "                start_index = int(row['GRCh38Location'].split(' - ')[0])\n",
    "                end_index = int(row['GRCh38Location'].split(' - ')[1])\n",
    "                for j in range(start_index, end_index+1):\n",
    "                    locs.append([disease, j])\n",
    "            else:\n",
    "                locs.append([disease, int(row['GRCh38Location'])])"
   ]
  },
  {
   "cell_type": "code",
   "execution_count": 11,
   "metadata": {},
   "outputs": [
    {
     "data": {
      "image/png": "[encoded data removed]",
      "text/plain": [
       "<Figure size 1728x432 with 1 Axes>"
      ]
     },
     "metadata": {},
     "output_type": "display_data"
    }
   ],
   "source": [
    "# plotting location data for pathogenic variants  \n",
    "fig = plt.figure(figsize=(24,6))\n",
    "ax = fig.add_subplot(111)\n",
    "for d, j in locs:\n",
    "    plt.scatter(j, len(disease_dictionary)+1 - disease_dictionary[d], \n",
    "                color='b', s=450, alpha=1, marker='|', lw=3)\n",
    "\n",
    "plt.yticks(np.arange(len(disease_dictionary),0,-1), [i+' ' for i in disease_dictionary.keys()], fontsize=20) \n",
    "plt.xticks([39690000,   39700000,  39710000,  39720000,  39730000],\n",
    "           ['39.69 M', '39.70 M', '39.71 M', '39.72 M', '39.73 M'], fontsize=20) \n",
    "\n",
    "plt.ylim(0, len(disease_dictionary)+1)\n",
    "ax.tick_params(top=True, labeltop=True, bottom=False, labelbottom=False)\n",
    "ax.yaxis.grid()"
   ]
  },
  {
   "cell_type": "code",
   "execution_count": 12,
   "metadata": {},
   "outputs": [
    {
     "data": {
      "image/png": "[encoded data removed]",
      "text/plain": [
       "<Figure size 1728x432 with 1 Axes>"
      ]
     },
     "metadata": {},
     "output_type": "display_data"
    }
   ],
   "source": [
    "# zooming in on a narrow genomic band. ch17:39,711,950 - 39,711,956    \n",
    "fig = plt.figure(figsize=(24,6))\n",
    "ax = fig.add_subplot(111)\n",
    "for d, j in locs:\n",
    "    plt.scatter(j, len(disease_dictionary)+1 - disease_dictionary[d], \n",
    "                color='b', s=450, alpha=1, marker='|', lw=12)\n",
    "\n",
    "plt.yticks(np.arange(len(disease_dictionary),0,-1), [i+' ' for i in disease_dictionary.keys()], fontsize=20) \n",
    "plt.xticks([39711950, 39711951, 39711952, 39711953, 39711954, 39711955, 39711956],\n",
    "           ['39,711,950', '39,711,951', '39,711,952', '39,711,953', '39,711,954', '39,711,955', '39,711,956'], fontsize=20) \n",
    "\n",
    "plt.ylim(0, len(disease_dictionary)+1)\n",
    "ax.tick_params(top=True, labeltop=True, bottom=False, labelbottom=False)\n",
    "ax.yaxis.grid()\n",
    "plt.xlim(39711950, 39711956)"
   ]
  },
  {
   "cell_type": "markdown",
   "metadata": {},
   "source": [
    "&emsp;"
   ]
  },
  {
   "cell_type": "code",
   "execution_count": 13,
   "metadata": {},
   "outputs": [],
   "source": [
    "# loading dbSNP data\n",
    "# source: https://www.ncbi.nlm.nih.gov/snp/?term=erbb2\n",
    "df_snp = pd.read_csv('data/dbSNP.txt', sep='\\t')"
   ]
  },
  {
   "cell_type": "code",
   "execution_count": 14,
   "metadata": {},
   "outputs": [
    {
     "data": {
      "text/html": [
       "<div>\n",
       "<style scoped>\n",
       "    .dataframe tbody tr th:only-of-type {\n",
       "        vertical-align: middle;\n",
       "    }\n",
       "\n",
       "    .dataframe tbody tr th {\n",
       "        vertical-align: top;\n",
       "    }\n",
       "\n",
       "    .dataframe thead th {\n",
       "        text-align: right;\n",
       "    }\n",
       "</style>\n",
       "<table border=\"1\" class=\"dataframe\">\n",
       "  <thead>\n",
       "    <tr style=\"text-align: right;\">\n",
       "      <th></th>\n",
       "      <th>#chr</th>\n",
       "      <th>pos</th>\n",
       "      <th>variation</th>\n",
       "      <th>variant_type</th>\n",
       "      <th>snp_id</th>\n",
       "      <th>clinical_significance</th>\n",
       "      <th>validation_status</th>\n",
       "      <th>function_class</th>\n",
       "      <th>gene</th>\n",
       "      <th>frequency</th>\n",
       "    </tr>\n",
       "  </thead>\n",
       "  <tbody>\n",
       "    <tr>\n",
       "      <th>0</th>\n",
       "      <td>17</td>\n",
       "      <td>39724858</td>\n",
       "      <td>C&gt;A,G,T</td>\n",
       "      <td>snv</td>\n",
       "      <td>587778267</td>\n",
       "      <td>not-provided</td>\n",
       "      <td>by-frequency;by-alfa;by-cluster</td>\n",
       "      <td>coding_sequence_variant;upstream_transcript_va...</td>\n",
       "      <td>ERBB2;MIR4728</td>\n",
       "      <td>T:0.000004:1:GnomAD_exomes|T:0.000008:2:TOPMED...</td>\n",
       "    </tr>\n",
       "    <tr>\n",
       "      <th>1</th>\n",
       "      <td>17</td>\n",
       "      <td>39723488</td>\n",
       "      <td>G&gt;A,C</td>\n",
       "      <td>snv</td>\n",
       "      <td>747584308</td>\n",
       "      <td>NaN</td>\n",
       "      <td>by-frequency;by-alfa;by-cluster</td>\n",
       "      <td>intron_variant;genic_downstream_transcript_var...</td>\n",
       "      <td>ERBB2</td>\n",
       "      <td>A:0.000025:3:ExAC|A:0.000036:5:GnomAD|A:0.0000...</td>\n",
       "    </tr>\n",
       "    <tr>\n",
       "      <th>2</th>\n",
       "      <td>17</td>\n",
       "      <td>39715470</td>\n",
       "      <td>C&gt;A,G,T</td>\n",
       "      <td>snv</td>\n",
       "      <td>747327229</td>\n",
       "      <td>NaN</td>\n",
       "      <td>by-frequency;by-alfa;by-cluster</td>\n",
       "      <td>intron_variant;coding_sequence_variant;non_cod...</td>\n",
       "      <td>ERBB2</td>\n",
       "      <td>T:0.000008:1:ExAC|T:0.000007:1:GnomAD|T:0.0000...</td>\n",
       "    </tr>\n",
       "    <tr>\n",
       "      <th>3</th>\n",
       "      <td>17</td>\n",
       "      <td>39717388</td>\n",
       "      <td>C&gt;A,G,T</td>\n",
       "      <td>snv</td>\n",
       "      <td>747200104</td>\n",
       "      <td>NaN</td>\n",
       "      <td>by-frequency;by-alfa;by-cluster</td>\n",
       "      <td>coding_sequence_variant;missense_variant;intro...</td>\n",
       "      <td>ERBB2</td>\n",
       "      <td>T:0.000025:3:ExAC|A:0.000014:2:GnomAD|T:0.0000...</td>\n",
       "    </tr>\n",
       "    <tr>\n",
       "      <th>4</th>\n",
       "      <td>17</td>\n",
       "      <td>39687867</td>\n",
       "      <td>G&gt;A</td>\n",
       "      <td>snv</td>\n",
       "      <td>746846864</td>\n",
       "      <td>NaN</td>\n",
       "      <td>by-frequency;by-alfa;by-cluster</td>\n",
       "      <td>coding_sequence_variant;upstream_transcript_va...</td>\n",
       "      <td>ERBB2;PGAP3</td>\n",
       "      <td>A:0.000055:2:ExAC|A:0.000007:1:GnomAD|A:0.0000...</td>\n",
       "    </tr>\n",
       "  </tbody>\n",
       "</table>\n",
       "</div>"
      ],
      "text/plain": [
       "  #chr       pos variation variant_type     snp_id clinical_significance  \\\n",
       "0   17  39724858   C>A,G,T          snv  587778267          not-provided   \n",
       "1   17  39723488     G>A,C          snv  747584308                   NaN   \n",
       "2   17  39715470   C>A,G,T          snv  747327229                   NaN   \n",
       "3   17  39717388   C>A,G,T          snv  747200104                   NaN   \n",
       "4   17  39687867       G>A          snv  746846864                   NaN   \n",
       "\n",
       "                 validation_status  \\\n",
       "0  by-frequency;by-alfa;by-cluster   \n",
       "1  by-frequency;by-alfa;by-cluster   \n",
       "2  by-frequency;by-alfa;by-cluster   \n",
       "3  by-frequency;by-alfa;by-cluster   \n",
       "4  by-frequency;by-alfa;by-cluster   \n",
       "\n",
       "                                      function_class           gene  \\\n",
       "0  coding_sequence_variant;upstream_transcript_va...  ERBB2;MIR4728   \n",
       "1  intron_variant;genic_downstream_transcript_var...          ERBB2   \n",
       "2  intron_variant;coding_sequence_variant;non_cod...          ERBB2   \n",
       "3  coding_sequence_variant;missense_variant;intro...          ERBB2   \n",
       "4  coding_sequence_variant;upstream_transcript_va...    ERBB2;PGAP3   \n",
       "\n",
       "                                           frequency  \n",
       "0  T:0.000004:1:GnomAD_exomes|T:0.000008:2:TOPMED...  \n",
       "1  A:0.000025:3:ExAC|A:0.000036:5:GnomAD|A:0.0000...  \n",
       "2  T:0.000008:1:ExAC|T:0.000007:1:GnomAD|T:0.0000...  \n",
       "3  T:0.000025:3:ExAC|A:0.000014:2:GnomAD|T:0.0000...  \n",
       "4  A:0.000055:2:ExAC|A:0.000007:1:GnomAD|A:0.0000...  "
      ]
     },
     "execution_count": 14,
     "metadata": {},
     "output_type": "execute_result"
    }
   ],
   "source": [
    "# prinitng the first 5 rows of the data\n",
    "df_snp.head(5)"
   ]
  },
  {
   "cell_type": "code",
   "execution_count": 15,
   "metadata": {},
   "outputs": [],
   "source": [
    "df_snp = df_snp[['pos', 'variation', 'variant_type', 'frequency']]\n",
    "df_snp = df_snp[df_snp['frequency'].isnull()==False]\n",
    "df_snp = df_snp[df_snp['frequency'].str.contains('1000Genomes')]"
   ]
  },
  {
   "cell_type": "code",
   "execution_count": 16,
   "metadata": {},
   "outputs": [],
   "source": [
    "# extracting data from 1000 genome project\n",
    "def extract_1000_genome_freq(string):\n",
    "    splitted_string = string.split('|')\n",
    "    freqs = []\n",
    "    for item in splitted_string:\n",
    "        if '1000Genomes' in item:\n",
    "            freq = item.split(':')[1]\n",
    "            return float(freq)\n",
    "                    \n",
    "df_snp['1000_genome_frequency'] = df_snp.apply(lambda row: extract_1000_genome_freq(row['frequency']),axis=1) "
   ]
  },
  {
   "cell_type": "code",
   "execution_count": 17,
   "metadata": {},
   "outputs": [
    {
     "data": {
      "text/plain": [
       "<AxesSubplot:>"
      ]
     },
     "execution_count": 17,
     "metadata": {},
     "output_type": "execute_result"
    },
    {
     "data": {
      "image/png": "[encoded data removed]",
      "text/plain": [
       "<Figure size 432x288 with 1 Axes>"
      ]
     },
     "metadata": {},
     "output_type": "display_data"
    }
   ],
   "source": [
    "df_snp['1000_genome_frequency'].hist(bins=40, color='m')"
   ]
  },
  {
   "cell_type": "code",
   "execution_count": 18,
   "metadata": {},
   "outputs": [
    {
     "data": {
      "text/html": [
       "<div>\n",
       "<style scoped>\n",
       "    .dataframe tbody tr th:only-of-type {\n",
       "        vertical-align: middle;\n",
       "    }\n",
       "\n",
       "    .dataframe tbody tr th {\n",
       "        vertical-align: top;\n",
       "    }\n",
       "\n",
       "    .dataframe thead th {\n",
       "        text-align: right;\n",
       "    }\n",
       "</style>\n",
       "<table border=\"1\" class=\"dataframe\">\n",
       "  <thead>\n",
       "    <tr style=\"text-align: right;\">\n",
       "      <th></th>\n",
       "      <th>Position</th>\n",
       "      <th>Variation</th>\n",
       "      <th>Type</th>\n",
       "      <th>Frequency</th>\n",
       "    </tr>\n",
       "  </thead>\n",
       "  <tbody>\n",
       "    <tr>\n",
       "      <th>221</th>\n",
       "      <td>39696865</td>\n",
       "      <td>A&gt;G</td>\n",
       "      <td>snv</td>\n",
       "      <td>0.480012</td>\n",
       "    </tr>\n",
       "    <tr>\n",
       "      <th>224</th>\n",
       "      <td>39690268</td>\n",
       "      <td>T&gt;C</td>\n",
       "      <td>snv</td>\n",
       "      <td>0.450344</td>\n",
       "    </tr>\n",
       "    <tr>\n",
       "      <th>227</th>\n",
       "      <td>39687428</td>\n",
       "      <td>C&gt;G,T</td>\n",
       "      <td>snv</td>\n",
       "      <td>0.449250</td>\n",
       "    </tr>\n",
       "    <tr>\n",
       "      <th>229</th>\n",
       "      <td>39696844</td>\n",
       "      <td>C&gt;T</td>\n",
       "      <td>snv</td>\n",
       "      <td>0.444722</td>\n",
       "    </tr>\n",
       "    <tr>\n",
       "      <th>236</th>\n",
       "      <td>39727784</td>\n",
       "      <td>C&gt;A,G,T</td>\n",
       "      <td>snv</td>\n",
       "      <td>0.444254</td>\n",
       "    </tr>\n",
       "    <tr>\n",
       "      <th>237</th>\n",
       "      <td>39723509</td>\n",
       "      <td>G&gt;A,C,T</td>\n",
       "      <td>snv</td>\n",
       "      <td>0.443473</td>\n",
       "    </tr>\n",
       "    <tr>\n",
       "      <th>238</th>\n",
       "      <td>39712462</td>\n",
       "      <td>C&gt;T</td>\n",
       "      <td>snv</td>\n",
       "      <td>0.437071</td>\n",
       "    </tr>\n",
       "    <tr>\n",
       "      <th>217</th>\n",
       "      <td>39687297</td>\n",
       "      <td>T&gt;C</td>\n",
       "      <td>snv</td>\n",
       "      <td>0.431918</td>\n",
       "    </tr>\n",
       "    <tr>\n",
       "      <th>226</th>\n",
       "      <td>39687606</td>\n",
       "      <td>G&gt;A,C</td>\n",
       "      <td>snv</td>\n",
       "      <td>0.431918</td>\n",
       "    </tr>\n",
       "    <tr>\n",
       "      <th>225</th>\n",
       "      <td>39690259</td>\n",
       "      <td>A&gt;T</td>\n",
       "      <td>snv</td>\n",
       "      <td>0.430824</td>\n",
       "    </tr>\n",
       "  </tbody>\n",
       "</table>\n",
       "</div>"
      ],
      "text/plain": [
       "     Position Variation Type  Frequency\n",
       "221  39696865       A>G  snv   0.480012\n",
       "224  39690268       T>C  snv   0.450344\n",
       "227  39687428     C>G,T  snv   0.449250\n",
       "229  39696844       C>T  snv   0.444722\n",
       "236  39727784   C>A,G,T  snv   0.444254\n",
       "237  39723509   G>A,C,T  snv   0.443473\n",
       "238  39712462       C>T  snv   0.437071\n",
       "217  39687297       T>C  snv   0.431918\n",
       "226  39687606     G>A,C  snv   0.431918\n",
       "225  39690259       A>T  snv   0.430824"
      ]
     },
     "execution_count": 18,
     "metadata": {},
     "output_type": "execute_result"
    }
   ],
   "source": [
    "# printing top 10 common variants \n",
    "temp = df_snp.sort_values(by='1000_genome_frequency', ascending=False).head(10)\n",
    "temp = temp[['pos', 'variation', 'variant_type', '1000_genome_frequency']]\n",
    "temp = temp.rename(columns={\"pos\": \"Position\", \n",
    "                            \"variation\": \"Variation\",\n",
    "                            'variant_type': 'Type',\n",
    "                            '1000_genome_frequency': 'Frequency'})\n",
    "temp"
   ]
  },
  {
   "cell_type": "code",
   "execution_count": 19,
   "metadata": {},
   "outputs": [
    {
     "data": {
      "text/html": [
       "<div>\n",
       "<style scoped>\n",
       "    .dataframe tbody tr th:only-of-type {\n",
       "        vertical-align: middle;\n",
       "    }\n",
       "\n",
       "    .dataframe tbody tr th {\n",
       "        vertical-align: top;\n",
       "    }\n",
       "\n",
       "    .dataframe thead th {\n",
       "        text-align: right;\n",
       "    }\n",
       "</style>\n",
       "<table border=\"1\" class=\"dataframe\">\n",
       "  <thead>\n",
       "    <tr style=\"text-align: right;\">\n",
       "      <th></th>\n",
       "      <th>Position</th>\n",
       "      <th>Variation</th>\n",
       "      <th>Type</th>\n",
       "      <th>Frequency</th>\n",
       "    </tr>\n",
       "  </thead>\n",
       "  <tbody>\n",
       "    <tr>\n",
       "      <th>543</th>\n",
       "      <td>39724404</td>\n",
       "      <td>C&gt;G,T</td>\n",
       "      <td>snv</td>\n",
       "      <td>0.000156</td>\n",
       "    </tr>\n",
       "    <tr>\n",
       "      <th>214</th>\n",
       "      <td>39709828</td>\n",
       "      <td>C&gt;A,G,T</td>\n",
       "      <td>snv</td>\n",
       "      <td>0.000156</td>\n",
       "    </tr>\n",
       "    <tr>\n",
       "      <th>326</th>\n",
       "      <td>39717480</td>\n",
       "      <td>C&gt;A,G,T</td>\n",
       "      <td>snv</td>\n",
       "      <td>0.000156</td>\n",
       "    </tr>\n",
       "    <tr>\n",
       "      <th>74</th>\n",
       "      <td>39687862</td>\n",
       "      <td>G&gt;C</td>\n",
       "      <td>snv</td>\n",
       "      <td>0.000156</td>\n",
       "    </tr>\n",
       "    <tr>\n",
       "      <th>75</th>\n",
       "      <td>39727732</td>\n",
       "      <td>C&gt;A,G,T</td>\n",
       "      <td>snv</td>\n",
       "      <td>0.000156</td>\n",
       "    </tr>\n",
       "    <tr>\n",
       "      <th>77</th>\n",
       "      <td>39727516</td>\n",
       "      <td>C&gt;A,G,T</td>\n",
       "      <td>snv</td>\n",
       "      <td>0.000156</td>\n",
       "    </tr>\n",
       "    <tr>\n",
       "      <th>80</th>\n",
       "      <td>39724864</td>\n",
       "      <td>C&gt;G,T</td>\n",
       "      <td>snv</td>\n",
       "      <td>0.000156</td>\n",
       "    </tr>\n",
       "    <tr>\n",
       "      <th>81</th>\n",
       "      <td>39712273</td>\n",
       "      <td>G&gt;A,C,T</td>\n",
       "      <td>snv</td>\n",
       "      <td>0.000156</td>\n",
       "    </tr>\n",
       "    <tr>\n",
       "      <th>83</th>\n",
       "      <td>39720953</td>\n",
       "      <td>C&gt;T</td>\n",
       "      <td>snv</td>\n",
       "      <td>0.000156</td>\n",
       "    </tr>\n",
       "    <tr>\n",
       "      <th>85</th>\n",
       "      <td>39727369</td>\n",
       "      <td>C&gt;A,G,T</td>\n",
       "      <td>snv</td>\n",
       "      <td>0.000156</td>\n",
       "    </tr>\n",
       "  </tbody>\n",
       "</table>\n",
       "</div>"
      ],
      "text/plain": [
       "     Position Variation Type  Frequency\n",
       "543  39724404     C>G,T  snv   0.000156\n",
       "214  39709828   C>A,G,T  snv   0.000156\n",
       "326  39717480   C>A,G,T  snv   0.000156\n",
       "74   39687862       G>C  snv   0.000156\n",
       "75   39727732   C>A,G,T  snv   0.000156\n",
       "77   39727516   C>A,G,T  snv   0.000156\n",
       "80   39724864     C>G,T  snv   0.000156\n",
       "81   39712273   G>A,C,T  snv   0.000156\n",
       "83   39720953       C>T  snv   0.000156\n",
       "85   39727369   C>A,G,T  snv   0.000156"
      ]
     },
     "execution_count": 19,
     "metadata": {},
     "output_type": "execute_result"
    }
   ],
   "source": [
    "# printing top 10 rare variants \n",
    "temp = df_snp.sort_values(by='1000_genome_frequency', ascending=True).head(10)\n",
    "temp = temp[['pos', 'variation', 'variant_type', '1000_genome_frequency']]\n",
    "temp = temp.rename(columns={\"pos\": \"Position\", \n",
    "                            \"variation\": \"Variation\",\n",
    "                            'variant_type': 'Type',\n",
    "                            '1000_genome_frequency': 'Frequency'})\n",
    "temp"
   ]
  },
  {
   "cell_type": "markdown",
   "metadata": {},
   "source": [
    "&emsp;"
   ]
  },
  {
   "cell_type": "markdown",
   "metadata": {
    "jp-MarkdownHeadingCollapsed": true
   },
   "source": [
    "## ERBB2 Expression Levels in Various Tissues"
   ]
  },
  {
   "cell_type": "code",
   "execution_count": 20,
   "metadata": {},
   "outputs": [],
   "source": [
    "# loading GTEx data\n",
    "# Source: Data was downloaded from https://genome.ucsc.edu/cgi-bin/hgTables\n",
    "# ERBB2 Gene ID: ENSG00000141736.13\n",
    "df_gtex = pd.read_csv('data/GTEx.csv')"
   ]
  },
  {
   "cell_type": "code",
   "execution_count": 21,
   "metadata": {},
   "outputs": [
    {
     "data": {
      "text/html": [
       "<div>\n",
       "<style scoped>\n",
       "    .dataframe tbody tr th:only-of-type {\n",
       "        vertical-align: middle;\n",
       "    }\n",
       "\n",
       "    .dataframe tbody tr th {\n",
       "        vertical-align: top;\n",
       "    }\n",
       "\n",
       "    .dataframe thead th {\n",
       "        text-align: right;\n",
       "    }\n",
       "</style>\n",
       "<table border=\"1\" class=\"dataframe\">\n",
       "  <thead>\n",
       "    <tr style=\"text-align: right;\">\n",
       "      <th></th>\n",
       "      <th>#\"geneId\"</th>\n",
       "      <th>sample</th>\n",
       "      <th>tissue</th>\n",
       "      <th>score</th>\n",
       "    </tr>\n",
       "  </thead>\n",
       "  <tbody>\n",
       "    <tr>\n",
       "      <th>0</th>\n",
       "      <td>ENSG00000141736.13</td>\n",
       "      <td>GTEX-1117F-0226-SM-5GZZ7</td>\n",
       "      <td>adiposeSubcut</td>\n",
       "      <td>25.590</td>\n",
       "    </tr>\n",
       "    <tr>\n",
       "      <th>1</th>\n",
       "      <td>ENSG00000141736.13</td>\n",
       "      <td>GTEX-ZZPU-2726-SM-5NQ8O</td>\n",
       "      <td>adiposeSubcut</td>\n",
       "      <td>12.110</td>\n",
       "    </tr>\n",
       "    <tr>\n",
       "      <th>2</th>\n",
       "      <td>ENSG00000141736.13</td>\n",
       "      <td>GTEX-ZZ64-1626-SM-5E43W</td>\n",
       "      <td>adiposeSubcut</td>\n",
       "      <td>6.770</td>\n",
       "    </tr>\n",
       "    <tr>\n",
       "      <th>3</th>\n",
       "      <td>ENSG00000141736.13</td>\n",
       "      <td>GTEX-ZYY3-0226-SM-5E45M</td>\n",
       "      <td>adiposeSubcut</td>\n",
       "      <td>5.799</td>\n",
       "    </tr>\n",
       "    <tr>\n",
       "      <th>4</th>\n",
       "      <td>ENSG00000141736.13</td>\n",
       "      <td>GTEX-ZYW4-0226-SM-5E44M</td>\n",
       "      <td>adiposeSubcut</td>\n",
       "      <td>15.870</td>\n",
       "    </tr>\n",
       "    <tr>\n",
       "      <th>...</th>\n",
       "      <td>...</td>\n",
       "      <td>...</td>\n",
       "      <td>...</td>\n",
       "      <td>...</td>\n",
       "    </tr>\n",
       "    <tr>\n",
       "      <th>17377</th>\n",
       "      <td>ENSG00000141736.13</td>\n",
       "      <td>GTEX-1122O-0005-SM-5O99J</td>\n",
       "      <td>wholeBlood</td>\n",
       "      <td>0.882</td>\n",
       "    </tr>\n",
       "    <tr>\n",
       "      <th>17378</th>\n",
       "      <td>ENSG00000141736.13</td>\n",
       "      <td>GTEX-R55E-2026-SM-EZ6L1</td>\n",
       "      <td>kidneyMedulla</td>\n",
       "      <td>143.900</td>\n",
       "    </tr>\n",
       "    <tr>\n",
       "      <th>17379</th>\n",
       "      <td>ENSG00000141736.13</td>\n",
       "      <td>GTEX-TKQ2-0626-SM-EZ6LB</td>\n",
       "      <td>kidneyMedulla</td>\n",
       "      <td>76.260</td>\n",
       "    </tr>\n",
       "    <tr>\n",
       "      <th>17380</th>\n",
       "      <td>ENSG00000141736.13</td>\n",
       "      <td>GTEX-T5JC-1626-SM-EZ6KW</td>\n",
       "      <td>kidneyMedulla</td>\n",
       "      <td>53.380</td>\n",
       "    </tr>\n",
       "    <tr>\n",
       "      <th>17381</th>\n",
       "      <td>ENSG00000141736.13</td>\n",
       "      <td>GTEX-RU72-1926-SM-EAZ3F</td>\n",
       "      <td>kidneyMedulla</td>\n",
       "      <td>46.450</td>\n",
       "    </tr>\n",
       "  </tbody>\n",
       "</table>\n",
       "<p>17382 rows × 4 columns</p>\n",
       "</div>"
      ],
      "text/plain": [
       "                #\"geneId\"                    sample         tissue    score\n",
       "0      ENSG00000141736.13  GTEX-1117F-0226-SM-5GZZ7  adiposeSubcut   25.590\n",
       "1      ENSG00000141736.13   GTEX-ZZPU-2726-SM-5NQ8O  adiposeSubcut   12.110\n",
       "2      ENSG00000141736.13   GTEX-ZZ64-1626-SM-5E43W  adiposeSubcut    6.770\n",
       "3      ENSG00000141736.13   GTEX-ZYY3-0226-SM-5E45M  adiposeSubcut    5.799\n",
       "4      ENSG00000141736.13   GTEX-ZYW4-0226-SM-5E44M  adiposeSubcut   15.870\n",
       "...                   ...                       ...            ...      ...\n",
       "17377  ENSG00000141736.13  GTEX-1122O-0005-SM-5O99J     wholeBlood    0.882\n",
       "17378  ENSG00000141736.13   GTEX-R55E-2026-SM-EZ6L1  kidneyMedulla  143.900\n",
       "17379  ENSG00000141736.13   GTEX-TKQ2-0626-SM-EZ6LB  kidneyMedulla   76.260\n",
       "17380  ENSG00000141736.13   GTEX-T5JC-1626-SM-EZ6KW  kidneyMedulla   53.380\n",
       "17381  ENSG00000141736.13   GTEX-RU72-1926-SM-EAZ3F  kidneyMedulla   46.450\n",
       "\n",
       "[17382 rows x 4 columns]"
      ]
     },
     "execution_count": 21,
     "metadata": {},
     "output_type": "execute_result"
    }
   ],
   "source": [
    "# score is gene expression measured in TPM (Transcripts Per Million)\n",
    "df_gtex"
   ]
  },
  {
   "cell_type": "code",
   "execution_count": 22,
   "metadata": {},
   "outputs": [
    {
     "name": "stdout",
     "output_type": "stream",
     "text": [
      "Number of samples: 17382\n",
      "Number of tissues: 54\n"
     ]
    }
   ],
   "source": [
    "print('Number of samples:', len(df_gtex)) \n",
    "print('Number of tissues:', len(df_gtex['tissue'].value_counts())) "
   ]
  },
  {
   "cell_type": "code",
   "execution_count": 23,
   "metadata": {},
   "outputs": [
    {
     "data": {
      "image/png": "[encoded data removed]",
      "text/plain": [
       "<Figure size 1440x720 with 1 Axes>"
      ]
     },
     "metadata": {},
     "output_type": "display_data"
    }
   ],
   "source": [
    "# plotting the distribution of TPM scores across all tissues\n",
    "plt.figure(figsize=(20,10))\n",
    "order = df_gtex.groupby(\"tissue\")[\"score\"].median().fillna(0).sort_values()[::-1].index\n",
    "ax = sns.boxplot(x='tissue', \n",
    "                 y='score', \n",
    "                 data=df_gtex, \n",
    "                 showfliers=False, \n",
    "                 color=\"dodgerblue\", \n",
    "                 order=order)\n",
    "\n",
    "plt.xticks(fontsize=18, rotation=90)\n",
    "plt.yticks(fontsize=18)\n",
    "plt.show()"
   ]
  },
  {
   "cell_type": "markdown",
   "metadata": {},
   "source": [
    "&emsp;"
   ]
  },
  {
   "cell_type": "markdown",
   "metadata": {
    "jp-MarkdownHeadingCollapsed": true
   },
   "source": [
    "## Three-dimensional Structure of the HER2 Protein"
   ]
  },
  {
   "cell_type": "markdown",
   "metadata": {},
   "source": [
    "FASTA files containing ERBB2 protein sequences were downloaded from: \n",
    "https://www.ncbi.nlm.nih.gov/gene/2064"
   ]
  },
  {
   "cell_type": "code",
   "execution_count": 24,
   "metadata": {},
   "outputs": [],
   "source": [
    "protein_seq = '''\n",
    "MKLRLPASPETHLDMLRHLYQGCQVVQGNLELTYLPTNASLSFLQDIQEVQGYVLIAHNQVRQVPLQRLR\n",
    "IVRGTQLFEDNYALAVLDNGDPLNNTTPVTGASPGGLRELQLRSLTEILKGGVLIQRNPQLCYQDTILWK\n",
    "DIFHKNNQLALTLIDTNRSRACHPCSPMCKGSRCWGESSEDCQSLTRTVCAGGCARCKGPLPTDCCHEQC\n",
    "AAGCTGPKHSDCLACLHFNHSGICELHCPALVTYNTDTFESMPNPEGRYTFGASCVTACPYNYLSTDVGS\n",
    "CTLVCPLHNQEVTAEDGTQRCEKCSKPCARVCYGLGMEHLREVRAVTSANIQEFAGCKKIFGSLAFLPES\n",
    "FDGDPASNTAPLQPEQLQVFETLEEITGYLYISAWPDSLPDLSVFQNLQVIRGRILHNGAYSLTLQGLGI\n",
    "SWLGLRSLRELGSGLALIHHNTHLCFVHTVPWDQLFRNPHQALLHTANRPEDECVGEGLACHQLCARGHC\n",
    "WGPGPTQCVNCSQFLRGQECVEECRVLQGLPREYVNARHCLPCHPECQPQNGSVTCFGPEADQCVACAHY\n",
    "KDPPFCVARCPSGVKPDLSYMPIWKFPDEEGACQPCPINCTHSCVDLDDKGCPAEQRASPLTSIISAVVG\n",
    "ILLVVVLGVVFGILIKRRQQKIRKYTMRRLLQETELVEPLTPSGAMPNQAQMRILKETELRKVKVLGSGA\n",
    "FGTVYKGIWIPDGENVKIPVAIKVLRENTSPKANKEILDEAYVMAGVGSPYVSRLLGICLTSTVQLVTQL\n",
    "MPYGCLLDHVRENRGRLGSQDLLNWCMQIAKGMSYLEDVRLVHRDLAARNVLVKSPNHVKITDFGLARLL\n",
    "DIDETEYHADGGKVPIKWMALESILRRRFTHQSDVWSYGVTVWELMTFGAKPYDGIPAREIPDLLEKGER\n",
    "LPQPPICTIDVYMIMVKCWMIDSECRPRFRELVSEFSRMARDPQRFVVIQNEDLGPASPLDSTFYRSLLE\n",
    "DDDMGDLVDAEEYLVPQQGFFCPDPAPGAGGMVHHRHRSSSTRSGGGDLTLGLEPSEEEAPRSPLAPSEG\n",
    "AGSDVFDGDLGMGAAKGLQSLPTHDPSPLQRYSEDPTVPLPSETDGYVAPLTCSPQPEYVNQPDVRPQPP\n",
    "SPREGPLPAARPAGATLERPKTLSPGKNGVVKDVFAFGGAVENPEYLTPQGGAAPQPHPPPAFSPAFDNL\n",
    "YYWDQDPPERGAPPSTFKGTPTAENPEYLGLDVPV\n",
    "'''"
   ]
  },
  {
   "cell_type": "markdown",
   "metadata": {},
   "source": [
    "Next, `Blastp` was queried using the above protein sequence. Clicking on the `AlphaFold Structure` renders the three-dimensional representation of the protein sequence.  "
   ]
  },
  {
   "cell_type": "markdown",
   "metadata": {},
   "source": [
    "<img src='images/3D_structure.png'>\n",
    "\n",
    "Three distinct views of the three-dimensional structure of the HER2 protein created using iCn3D viewer. "
   ]
  },
  {
   "cell_type": "markdown",
   "metadata": {},
   "source": [
    "&emsp;"
   ]
  },
  {
   "cell_type": "markdown",
   "metadata": {
    "jp-MarkdownHeadingCollapsed": true
   },
   "source": [
    "## Prediction of HER2 Status Using Machine Learning"
   ]
  },
  {
   "cell_type": "code",
   "execution_count": 25,
   "metadata": {},
   "outputs": [
    {
     "data": {
      "text/html": [
       "<div>\n",
       "<style scoped>\n",
       "    .dataframe tbody tr th:only-of-type {\n",
       "        vertical-align: middle;\n",
       "    }\n",
       "\n",
       "    .dataframe tbody tr th {\n",
       "        vertical-align: top;\n",
       "    }\n",
       "\n",
       "    .dataframe thead th {\n",
       "        text-align: right;\n",
       "    }\n",
       "</style>\n",
       "<table border=\"1\" class=\"dataframe\">\n",
       "  <thead>\n",
       "    <tr style=\"text-align: right;\">\n",
       "      <th></th>\n",
       "      <th>ERBB2_copy_number</th>\n",
       "      <th>ERBB2_CEP17_ratio</th>\n",
       "      <th>ERBB2_minus_ploidy</th>\n",
       "    </tr>\n",
       "    <tr>\n",
       "      <th>sample_id</th>\n",
       "      <th></th>\n",
       "      <th></th>\n",
       "      <th></th>\n",
       "    </tr>\n",
       "  </thead>\n",
       "  <tbody>\n",
       "    <tr>\n",
       "      <th>CPCT02020203T</th>\n",
       "      <td>2</td>\n",
       "      <td>1.000000</td>\n",
       "      <td>-1.6971</td>\n",
       "    </tr>\n",
       "    <tr>\n",
       "      <th>CPCT02180049T</th>\n",
       "      <td>4</td>\n",
       "      <td>1.000000</td>\n",
       "      <td>0.5770</td>\n",
       "    </tr>\n",
       "    <tr>\n",
       "      <th>WIDE01010074T</th>\n",
       "      <td>25</td>\n",
       "      <td>12.500000</td>\n",
       "      <td>22.0631</td>\n",
       "    </tr>\n",
       "    <tr>\n",
       "      <th>CPCT02460004T</th>\n",
       "      <td>9</td>\n",
       "      <td>9.000000</td>\n",
       "      <td>6.9487</td>\n",
       "    </tr>\n",
       "    <tr>\n",
       "      <th>CPCT02190024T</th>\n",
       "      <td>16</td>\n",
       "      <td>8.000000</td>\n",
       "      <td>12.8407</td>\n",
       "    </tr>\n",
       "    <tr>\n",
       "      <th>...</th>\n",
       "      <td>...</td>\n",
       "      <td>...</td>\n",
       "      <td>...</td>\n",
       "    </tr>\n",
       "    <tr>\n",
       "      <th>CPCT02230021T</th>\n",
       "      <td>48</td>\n",
       "      <td>24.000000</td>\n",
       "      <td>45.0714</td>\n",
       "    </tr>\n",
       "    <tr>\n",
       "      <th>DO220822</th>\n",
       "      <td>2</td>\n",
       "      <td>1.000000</td>\n",
       "      <td>-0.1184</td>\n",
       "    </tr>\n",
       "    <tr>\n",
       "      <th>TCGA-A2-A259T</th>\n",
       "      <td>2</td>\n",
       "      <td>0.333333</td>\n",
       "      <td>-2.3006</td>\n",
       "    </tr>\n",
       "    <tr>\n",
       "      <th>CPCT02040017T</th>\n",
       "      <td>2</td>\n",
       "      <td>1.000000</td>\n",
       "      <td>0.0011</td>\n",
       "    </tr>\n",
       "    <tr>\n",
       "      <th>CPCT02010298T</th>\n",
       "      <td>2</td>\n",
       "      <td>1.000000</td>\n",
       "      <td>0.0211</td>\n",
       "    </tr>\n",
       "  </tbody>\n",
       "</table>\n",
       "<p>876 rows × 3 columns</p>\n",
       "</div>"
      ],
      "text/plain": [
       "               ERBB2_copy_number  ERBB2_CEP17_ratio  ERBB2_minus_ploidy\n",
       "sample_id                                                              \n",
       "CPCT02020203T                  2           1.000000             -1.6971\n",
       "CPCT02180049T                  4           1.000000              0.5770\n",
       "WIDE01010074T                 25          12.500000             22.0631\n",
       "CPCT02460004T                  9           9.000000              6.9487\n",
       "CPCT02190024T                 16           8.000000             12.8407\n",
       "...                          ...                ...                 ...\n",
       "CPCT02230021T                 48          24.000000             45.0714\n",
       "DO220822                       2           1.000000             -0.1184\n",
       "TCGA-A2-A259T                  2           0.333333             -2.3006\n",
       "CPCT02040017T                  2           1.000000              0.0011\n",
       "CPCT02010298T                  2           1.000000              0.0211\n",
       "\n",
       "[876 rows x 3 columns]"
      ]
     },
     "execution_count": 25,
     "metadata": {},
     "output_type": "execute_result"
    }
   ],
   "source": [
    "# loading training data\n",
    "train_input = pd.read_csv('data/train/input.csv').set_index('sample_id')\n",
    "train_input = train_input[['ERBB2_copy_number', 'ERBB2_CEP17_ratio', 'ERBB2_minus_ploidy']]\n",
    "train_input"
   ]
  },
  {
   "cell_type": "code",
   "execution_count": 26,
   "metadata": {},
   "outputs": [
    {
     "data": {
      "text/html": [
       "<div>\n",
       "<style scoped>\n",
       "    .dataframe tbody tr th:only-of-type {\n",
       "        vertical-align: middle;\n",
       "    }\n",
       "\n",
       "    .dataframe tbody tr th {\n",
       "        vertical-align: top;\n",
       "    }\n",
       "\n",
       "    .dataframe thead th {\n",
       "        text-align: right;\n",
       "    }\n",
       "</style>\n",
       "<table border=\"1\" class=\"dataframe\">\n",
       "  <thead>\n",
       "    <tr style=\"text-align: right;\">\n",
       "      <th></th>\n",
       "      <th>Class</th>\n",
       "    </tr>\n",
       "    <tr>\n",
       "      <th>sample_id</th>\n",
       "      <th></th>\n",
       "    </tr>\n",
       "  </thead>\n",
       "  <tbody>\n",
       "    <tr>\n",
       "      <th>CPCT02020203T</th>\n",
       "      <td>0</td>\n",
       "    </tr>\n",
       "    <tr>\n",
       "      <th>CPCT02180049T</th>\n",
       "      <td>0</td>\n",
       "    </tr>\n",
       "    <tr>\n",
       "      <th>WIDE01010074T</th>\n",
       "      <td>1</td>\n",
       "    </tr>\n",
       "    <tr>\n",
       "      <th>CPCT02460004T</th>\n",
       "      <td>1</td>\n",
       "    </tr>\n",
       "    <tr>\n",
       "      <th>CPCT02190024T</th>\n",
       "      <td>1</td>\n",
       "    </tr>\n",
       "    <tr>\n",
       "      <th>...</th>\n",
       "      <td>...</td>\n",
       "    </tr>\n",
       "    <tr>\n",
       "      <th>CPCT02230021T</th>\n",
       "      <td>1</td>\n",
       "    </tr>\n",
       "    <tr>\n",
       "      <th>DO220822</th>\n",
       "      <td>0</td>\n",
       "    </tr>\n",
       "    <tr>\n",
       "      <th>TCGA-A2-A259T</th>\n",
       "      <td>0</td>\n",
       "    </tr>\n",
       "    <tr>\n",
       "      <th>CPCT02040017T</th>\n",
       "      <td>0</td>\n",
       "    </tr>\n",
       "    <tr>\n",
       "      <th>CPCT02010298T</th>\n",
       "      <td>0</td>\n",
       "    </tr>\n",
       "  </tbody>\n",
       "</table>\n",
       "<p>876 rows × 1 columns</p>\n",
       "</div>"
      ],
      "text/plain": [
       "               Class\n",
       "sample_id           \n",
       "CPCT02020203T      0\n",
       "CPCT02180049T      0\n",
       "WIDE01010074T      1\n",
       "CPCT02460004T      1\n",
       "CPCT02190024T      1\n",
       "...              ...\n",
       "CPCT02230021T      1\n",
       "DO220822           0\n",
       "TCGA-A2-A259T      0\n",
       "CPCT02040017T      0\n",
       "CPCT02010298T      0\n",
       "\n",
       "[876 rows x 1 columns]"
      ]
     },
     "execution_count": 26,
     "metadata": {},
     "output_type": "execute_result"
    }
   ],
   "source": [
    "train_output = pd.read_csv('data/train/output.csv').set_index('sample_id')\n",
    "train_output"
   ]
  },
  {
   "cell_type": "code",
   "execution_count": 27,
   "metadata": {},
   "outputs": [],
   "source": [
    "from sklearn.naive_bayes import GaussianNB\n",
    "clf = GaussianNB()\n",
    "NB_model = clf.fit(train_input, train_output['Class'])"
   ]
  },
  {
   "cell_type": "code",
   "execution_count": 28,
   "metadata": {},
   "outputs": [],
   "source": [
    "# loading test data\n",
    "test_input = pd.read_csv('data/test/input.csv').set_index('sample_id')\n",
    "test_input = test_input[['ERBB2_copy_number', 'ERBB2_CEP17_ratio', 'ERBB2_minus_ploidy']]\n",
    "test_output = pd.read_csv('data/test/output.csv').set_index('sample_id')"
   ]
  },
  {
   "cell_type": "code",
   "execution_count": 29,
   "metadata": {},
   "outputs": [],
   "source": [
    "from sklearn.metrics import accuracy_score, recall_score\n",
    "\n",
    "# calculate model performance\n",
    "def calc_performance_metrics(model, test_input, test_output):\n",
    "    y_actual = test_output['IHC HER2']\n",
    "    y_predicted = model.predict(test_input)\n",
    "    accuracy = accuracy_score(y_actual, y_predicted)\n",
    "    sensitivity = recall_score(y_actual, y_predicted)\n",
    "    specificty = recall_score(y_actual, y_predicted, pos_label=0)\n",
    "    return accuracy, sensitivity, specificty"
   ]
  },
  {
   "cell_type": "code",
   "execution_count": 30,
   "metadata": {},
   "outputs": [],
   "source": [
    "accuracy, sensitivity, specificty = calc_performance_metrics(NB_model, test_input, test_output)"
   ]
  },
  {
   "cell_type": "code",
   "execution_count": 31,
   "metadata": {},
   "outputs": [
    {
     "name": "stdout",
     "output_type": "stream",
     "text": [
      "Naive Bayes Classifier\n",
      "Accuracy: 0.973\n",
      "Sensitivity: 0.826\n",
      "Specificty: 0.994\n"
     ]
    }
   ],
   "source": [
    "print('Naive Bayes Classifier')\n",
    "print('Accuracy:', np.round(accuracy,3))\n",
    "print('Sensitivity:', np.round(sensitivity,3))\n",
    "print('Specificty:', np.round(specificty,3))"
   ]
  },
  {
   "cell_type": "code",
   "execution_count": 32,
   "metadata": {},
   "outputs": [
    {
     "name": "stdout",
     "output_type": "stream",
     "text": [
      "Logistic Regression Classifier\n",
      "Accuracy: 0.969\n",
      "Sensitivity: 0.797\n",
      "Specificty: 0.994\n"
     ]
    }
   ],
   "source": [
    "from sklearn.linear_model import LogisticRegression\n",
    "\n",
    "clf = LogisticRegression()\n",
    "LR_model = clf.fit(train_input, train_output['Class'])\n",
    "\n",
    "accuracy, sensitivity, specificty = calc_performance_metrics(LR_model, test_input, test_output)\n",
    "\n",
    "print('Logistic Regression Classifier')\n",
    "print('Accuracy:', np.round(accuracy,3))\n",
    "print('Sensitivity:', np.round(sensitivity,3))\n",
    "print('Specificty:', np.round(specificty,3))"
   ]
  },
  {
   "cell_type": "code",
   "execution_count": 33,
   "metadata": {},
   "outputs": [
    {
     "name": "stdout",
     "output_type": "stream",
     "text": [
      "Decision Tree Classifier\n",
      "Accuracy: 0.942\n",
      "Sensitivity: 0.841\n",
      "Specificty: 0.956\n"
     ]
    }
   ],
   "source": [
    "from sklearn.tree import DecisionTreeClassifier\n",
    "clf = DecisionTreeClassifier()\n",
    "DT_model = clf.fit(train_input, train_output['Class'])\n",
    "\n",
    "accuracy, sensitivity, specificty = calc_performance_metrics(DT_model, test_input, test_output)\n",
    "\n",
    "print('Decision Tree Classifier')\n",
    "print('Accuracy:', np.round(accuracy,3))\n",
    "print('Sensitivity:', np.round(sensitivity,3))\n",
    "print('Specificty:', np.round(specificty,3))"
   ]
  },
  {
   "cell_type": "code",
   "execution_count": 37,
   "metadata": {},
   "outputs": [
    {
     "name": "stdout",
     "output_type": "stream",
     "text": [
      "Neural Network Classifier\n",
      "Accuracy: 0.971\n",
      "Sensitivity: 0.87\n",
      "Specificty: 0.985\n"
     ]
    }
   ],
   "source": [
    "from sklearn.neural_network import MLPClassifier\n",
    "clf = MLPClassifier(max_iter=300)\n",
    "MLP_model = clf.fit(train_input, train_output['Class'])\n",
    "\n",
    "accuracy, sensitivity, specificty = calc_performance_metrics(MLP_model, test_input, test_output)\n",
    "\n",
    "print('Neural Network Classifier')\n",
    "print('Accuracy:', np.round(accuracy,3))\n",
    "print('Sensitivity:', np.round(sensitivity,3))\n",
    "print('Specificty:', np.round(specificty,3))"
   ]
  }
 ],
 "metadata": {
  "kernelspec": {
   "display_name": "Python 3",
   "language": "python",
   "name": "python3"
  },
  "language_info": {
   "codemirror_mode": {
    "name": "ipython",
    "version": 3
   },
   "file_extension": ".py",
   "mimetype": "text/x-python",
   "name": "python",
   "nbconvert_exporter": "python",
   "pygments_lexer": "ipython3",
   "version": "3.8.5"
  }
 },
 "nbformat": 4,
 "nbformat_minor": 4
}
